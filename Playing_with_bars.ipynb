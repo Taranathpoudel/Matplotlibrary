{
  "nbformat": 4,
  "nbformat_minor": 0,
  "metadata": {
    "colab": {
      "name": "Playing_with_bars.ipynb",
      "provenance": [],
      "authorship_tag": "ABX9TyPDgBkBouutPl1TvNZiXnrc",
      "include_colab_link": true
    },
    "kernelspec": {
      "name": "python3",
      "display_name": "Python 3"
    },
    "language_info": {
      "name": "python"
    }
  },
  "cells": [
    {
      "cell_type": "markdown",
      "metadata": {
        "id": "view-in-github",
        "colab_type": "text"
      },
      "source": [
        "<a href=\"https://colab.research.google.com/github/Taranathpoudel/Matplotlibrary/blob/main/Playing_with_bars.ipynb\" target=\"_parent\"><img src=\"https://colab.research.google.com/assets/colab-badge.svg\" alt=\"Open In Colab\"/></a>"
      ]
    },
    {
      "cell_type": "markdown",
      "source": [
        "# Specifying width to a bar\n"
      ],
      "metadata": {
        "id": "j4sHq9q9bQer"
      }
    },
    {
      "cell_type": "code",
      "execution_count": 19,
      "metadata": {
        "colab": {
          "base_uri": "https://localhost:8080/",
          "height": 265
        },
        "id": "9v4_1DKybKLJ",
        "outputId": "6f5c4f5a-3b8b-496f-cec7-49ac4c435719"
      },
      "outputs": [
        {
          "output_type": "display_data",
          "data": {
            "text/plain": [
              "<Figure size 432x288 with 1 Axes>"
            ],
            "image/png": "[encoded data removed]"
          },
          "metadata": {
            "needs_background": "light"
          }
        }
      ],
      "source": [
        "import matplotlib.pyplot as plt\n",
        "import numpy as np\n",
        "\n",
        "x=np.array(['(0-10)%','(10-20)%','(20-30)%','(30-40)%','(40-50)%','(50-60)%'])\n",
        "y=np.random.randint(10,size=(6))\n",
        "colors=np.random.randint(10,size=(6))\n",
        "\n",
        "plt.bar(x,y,width=0.5,color='purple',alpha=0.7)\n",
        "plt.grid(axis='y')\n",
        "plt.show()"
      ]
    }
  ]
}