{
  "nbformat": 4,
  "nbformat_minor": 0,
  "metadata": {
    "colab": {
      "name": "Scattering_data.ipynb",
      "provenance": [],
      "authorship_tag": "ABX9TyOvCUAOsC5QgoLKcAJIAPND",
      "include_colab_link": true
    },
    "kernelspec": {
      "name": "python3",
      "display_name": "Python 3"
    },
    "language_info": {
      "name": "python"
    }
  },
  "cells": [
    {
      "cell_type": "markdown",
      "metadata": {
        "id": "view-in-github",
        "colab_type": "text"
      },
      "source": [
        "<a href=\"https://colab.research.google.com/github/Taranathpoudel/Matplotlibrary/blob/main/Scattering_data.ipynb\" target=\"_parent\"><img src=\"https://colab.research.google.com/assets/colab-badge.svg\" alt=\"Open In Colab\"/></a>"
      ]
    },
    {
      "cell_type": "markdown",
      "source": [
        "# Scattering Data"
      ],
      "metadata": {
        "id": "fPu8Us2LCCBQ"
      }
    },
    {
      "cell_type": "code",
      "execution_count": 4,
      "metadata": {
        "colab": {
          "base_uri": "https://localhost:8080/",
          "height": 265
        },
        "id": "HPtNwfABB24J",
        "outputId": "7e1ae795-1f45-43d6-8a26-b798bc5b246c"
      },
      "outputs": [
        {
          "output_type": "display_data",
          "data": {
            "text/plain": [
              "<Figure size 432x288 with 1 Axes>"
            ],
            "image/png": "[encoded data removed]"
          },
          "metadata": {
            "needs_background": "light"
          }
        }
      ],
      "source": [
        "# With pyplot you can use scatter() function to get scatter diagram\n",
        "import matplotlib.pyplot as plt\n",
        "import numpy as np\n",
        "\n",
        "x=np.array([2,3,4,5,6,7])\n",
        "y=np.array([1,2,3,4,5,6])\n",
        "\n",
        "plt.scatter(x,y)\n",
        "plt.grid()\n",
        "plt.show()"
      ]
    },
    {
      "cell_type": "markdown",
      "source": [
        "# Q) \n",
        "The observation in the example above is the result of 13 cars passing by.\n",
        "\n",
        "The X-axis shows how old the car is.\n",
        "\n",
        "The Y-axis shows the speed of the car when it passes.\n",
        "\n",
        "Are there any relationships between the observations?\n",
        "\n",
        "It seems that the newer the car, the faster it drives, but that could be a coincidence, after all we only registered 13 cars."
      ],
      "metadata": {
        "id": "mMVcaQSUQoJu"
      }
    },
    {
      "cell_type": "code",
      "source": [
        "import matplotlib.pyplot as plt\n",
        "import numpy as np\n",
        "\n",
        "# first set of data\n",
        "x=np.array([5,7,8,7,2,17,2,9,4,11,12,9,6]) # Age of car\n",
        "y=np.array([99,86,87,88,111,86,103,87,94,78,77,85,86]) # speed of car\n",
        "\n",
        "# scatter diagram helps to establish the relation of data\n",
        "plt.scatter(x,y,color='hotpink')\n",
        "\n",
        "# secoand set of data\n",
        "x=np.array([2,2,8,1,15,8,12,9,7,3,11,4,7,14,12]) # Age of car\n",
        "y=np.array([100,105,84,105,90,99,90,95,94,100,79,112,91,80,85]) # speed of car\n",
        "\n",
        "plt.scatter(x,y)\n",
        "plt.grid()\n",
        "plt.xlabel('Age of car')\n",
        "plt.ylabel('Speed of car')\n",
        "plt.title('Milayse Distribution')\n",
        "plt.show()\n"
      ],
      "metadata": {
        "colab": {
          "base_uri": "https://localhost:8080/",
          "height": 295
        },
        "id": "ZMn9If5oQw6A",
        "outputId": "7a8627ee-8cba-4023-fd91-bd0927a5c893"
      },
      "execution_count": 8,
      "outputs": [
        {
          "output_type": "display_data",
          "data": {
            "text/plain": [
              "<Figure size 432x288 with 1 Axes>"
            ],
            "image/png": "[encoded data removed]"
          },
          "metadata": {
            "needs_background": "light"
          }
        }
      ]
    }
  ]
}