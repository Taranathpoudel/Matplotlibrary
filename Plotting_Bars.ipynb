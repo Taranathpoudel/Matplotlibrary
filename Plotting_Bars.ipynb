{
  "nbformat": 4,
  "nbformat_minor": 0,
  "metadata": {
    "colab": {
      "name": "Plotting_Bars.ipynb",
      "provenance": [],
      "authorship_tag": "ABX9TyMGbPte4vh5++1Jc5ZEJiWR",
      "include_colab_link": true
    },
    "kernelspec": {
      "name": "python3",
      "display_name": "Python 3"
    },
    "language_info": {
      "name": "python"
    }
  },
  "cells": [
    {
      "cell_type": "markdown",
      "metadata": {
        "id": "view-in-github",
        "colab_type": "text"
      },
      "source": [
        "<a href=\"https://colab.research.google.com/github/Taranathpoudel/Matplotlibrary/blob/main/Plotting_Bars.ipynb\" target=\"_parent\"><img src=\"https://colab.research.google.com/assets/colab-badge.svg\" alt=\"Open In Colab\"/></a>"
      ]
    },
    {
      "cell_type": "markdown",
      "source": [
        "# With Pyplot bar() function is to plot bar graph"
      ],
      "metadata": {
        "id": "dw5nuasX394e"
      }
    },
    {
      "cell_type": "code",
      "execution_count": 15,
      "metadata": {
        "colab": {
          "base_uri": "https://localhost:8080/",
          "height": 265
        },
        "id": "J9Fn5Msm34Qg",
        "outputId": "9532f269-0960-4a15-bbf3-c7fbd4bf225d"
      },
      "outputs": [
        {
          "output_type": "display_data",
          "data": {
            "text/plain": [
              "<Figure size 432x288 with 1 Axes>"
            ],
            "image/png": "[encoded data removed]"
          },
          "metadata": {
            "needs_background": "light"
          }
        }
      ],
      "source": [
        "import matplotlib.pyplot as plt\n",
        "import numpy as np\n",
        "\n",
        "x=['A','B','C','D']\n",
        "y=[10,5,30,15]\n",
        "plt.bar(x,y,alpha=0.95,color='g')\n",
        "plt.grid(axis='y',color='r')\n",
        "plt.show()"
      ]
    }
  ]
}