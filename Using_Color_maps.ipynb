{
  "nbformat": 4,
  "nbformat_minor": 0,
  "metadata": {
    "colab": {
      "name": "Using_Color_maps.ipynb",
      "provenance": [],
      "authorship_tag": "ABX9TyMMINnZ8SfGSph6u/V/LJ/+",
      "include_colab_link": true
    },
    "kernelspec": {
      "name": "python3",
      "display_name": "Python 3"
    },
    "language_info": {
      "name": "python"
    }
  },
  "cells": [
    {
      "cell_type": "markdown",
      "metadata": {
        "id": "view-in-github",
        "colab_type": "text"
      },
      "source": [
        "<a href=\"https://colab.research.google.com/github/Taranathpoudel/Matplotlibrary/blob/main/Using_Color_maps.ipynb\" target=\"_parent\"><img src=\"https://colab.research.google.com/assets/colab-badge.svg\" alt=\"Open In Colab\"/></a>"
      ]
    },
    {
      "cell_type": "markdown",
      "source": [
        "# A colormap is a sequence of colors in which each color has value 0 to 100.\n",
        "![image.png](data:image/png;base64,iVBORw0KGgoAAAANSUhEUgAAAEMAAAF8CAYAAACUkQa/AAAKzklEQVR4nO2dv3IjxxnE+xvb5URyFRSomOmMC/wAUKJyCqXOcKkckakzXnjOyMwp+Qhk5pRMXU4OD+CAkJSxFJBVlhOVxGkHO5Sa1J20gwH2sLz+VW0RWGIWy8HXPbN/0ASMMebpcBgRVxFBABNZvx8RNxHBiLgAMC3rZxHxuqy/ArAYfI+3xCwiLlJKZ486Y1qe7wNARLxOKZ2Vx1cppRMASCmdlA55Uhw+6ozDiLgpjxelQm7QdR4BzNF12Gt53ovf9nnR3se/ubr+5i5V/AFv3s7e3vX19fVnLdtIKU1IIqV0RHIREeck91GkklKak9yPiFOSMzyU1y/SqzOuv7lLXy+fPfvDh+v3x3+/zfhk9tXa7e/JOd9GxITkjORzkocRcQtgBQAk5yQ/JTmNiEMAt3233aszAOCDDwMffBj1e1/IWL/tIy4BgOQ5AETEIiIuSS4BrCJiSXKVUjokubp/fR+aS3+LLMqocAQAEXGTUjoCsCR5EBEnxRNuc84HAEDyBcl5RLBUzouaN+z7cX35zX8+aZbJx3/6+isAf1x7I1umt0wyiAyu/UYtbYdil2UyOBWVkZEb3qit9TD07ow7Endcv9Rb2g6FPUOwZwhVlXH3xCvDMhEsE8GjiVAhEzTOM3Yfy0ToL5PG0aSl7VBUeEa3rEtL26GwTAQbqFDRGYG7hlN3GzzttzX6dwa7ZV1a2g6FPUOoGFrbZNLSdijcGYJlIlQYaCCzYTRpaDsUlolgmQgVlZFw19B3d2u3HI7encFGz6A942H7XceeIVScz0i4Y4NnjODYpOqoNTcUki8VjAwbqDCgZ1gmo6LSQH3aDwCQG6fjHk1Ghg1UqJLJU590VVRG4K7hyLOl7VDYM4QBT+48IZlkJuQGA80jMFDLRLBMhKpbElpGhDHckmCZCANOuna/3wecjj+hzngfDuF3/+MaEMtEGHCesfudsft7OCC+WUUY8Bzo7hfh7u/hgAx4CL/7/e7Li8Luf1wDYpkIFTJpK/UndYPb+1AZu7+HP2caERcldYX3UVQAkFI6kvVntRse3YFaydKZsruXcg7gAsApgBnJfZLPy0tfAzgEcNx7231fyHI+Y92FGxpac84rdDFUhyVtaQlgmVKal8crdMltk4jondEFvBuZfKnLq1ev/lrZ/hhd6tIRgDnJUwAgOQWAIqE5uhSm3hldwLuRyYMAolevXlVtp4SVgeRHKaVDACcklxGxIrkg+RLAccn8653RBVRUxv1Ra8uyCUoq2y26SKplWT0pj28BnKOT0Yxk74wuYIdHky+++OLvb1pfPnmUUeOsPL9EVw3nJSXyKiJOUWGeQEVO19/+9Zdnv//gdzXbfsB3//se//jzP59ITpdP7vzE+3ARaff3cEB8G5NgzxAsE6HiO2pth/AcwSG8z4EKu/9xDUhlfkaLga7ddDB82k/Y/T0cEN+5I3gGKtgzhN3fwwGp84ymO4SfkEzYaKCbulSwTSwTwYfwgkcTYff3cEAsE8HTccGVIdgzBFeG4M4QLBPBlSFUHKi1DY8jOB9smSiWieDOECwTwZUhuDOEqtjclujbMcTm2jMEn88Q7BmCZSLYQAXLRLBMBMtE8P8qECwToepMV0tW4RjOdFXNQMMz0I73wUDtGULVpCue+KSrQiaNBjoCB7VMBBuo4M4QLBPBo4ng0USo7IwWz1i76WDYMwSPJkLdIXzDG41AJZaJYpkIvTvjfdDJWGVy+IbYuonG3KFLb6uiojLaZIINyaTkdO2T/BTAkmUCU9ZPSszdfkSclGiq5S9t78G2+77wfgbasmwCkouIOMejP7IElp0DQEQsyuonH2c3ITmNiBuRwwTAJKU0jYjXEbECcJtS2k6c3QZHk6Y4u8KE5EfovOOoVMRtqY4DkucRscg5V8XZVXlGk+43N7Te5/g9WBkRlyXs8BzAPrpqqYqzG91RK8kDAGdFIrfl+SrnfBARj9f3Nk+gpjJ2h1UZSR5zS/Lzlg170iV4Oi6MdQa6Feo8YwSl3oJlIlgmgkcTocIzAv1Tdt/WfrdxZQj2DMGVIYzxqHVrWCbC6A7ht4k9Q7BMBBuo0Lszgt2yLi1th8IyEWyggj1DcGUI9gzBlSG4MwTLRPBoIngGKlgmgg1UcGUI/T0DjZ6xftPBcGUIHloFG6hgmQiuDMEzUMEyESwTwZ0hWCaCDVTwDFSwZwj2DMGeIVgmgmUiVFVGU6mPoDIsE8EyEVwZgodWwTIR3BmCPUOwZwiWieDvtQr2DMEyEWyggmUiWCaCZSJYJkJ/mXADy+bQnK77LK5ZyehiRFwBWPxC+zcySs9IKR09XleSmJYkIyIuI+Jnr/nV7fZ94b1ntCwbYlbCyY51HYBpzvkcwJTkDMAUW4uz25xMmuLsIuIkIk4BrGT1FABSSvMilfuwsu3E2W2Qlji7BboK+BwPP/UVAJCck/y0ZP8dAthWnB3e+WiSUlqQnETEzf26iLgpOX+r4hmrlNIhyRUq4+xG5Rk55xckoywvAKB0xC3JFyTnEUGSs/vf1zDGOLt7zvkw4mlJ8nnLBkclk23j6bjgyhBGOQPdFq4Moe7LNw1vtPu3t1kmD7BMBA+tgmUiWCaCLy8KlolgAxXsGYIrQ7BnCJaJYJkIlolgmQjuDMEyEWyggmUiVFQGEQ152S1th8KeIVgmgg1UsEwEy0SwTATLRLBMBMtEsEwEy0SouqI2hlJvoaIyiKf+T5HsGYJHE8EGKlgmQn+Z5G5Zl5a2Q2GZCJaJ4NFE8KRLcGUI9gzBo4lgmQiWieDRRLBMBMtE8GgiWCaCZSL0l0lmt6xLS9uBsGcI/qdygj1D8AxU8NAqWCbCGBPcphFxUZLabiBJbSmlo7KeKaWz2g1XBBCxedkQ80dJbSdl/T7JfZLPyzIHcFiz4THK5DTn/LI8/jGHK6U0B7BEl9m1ADCJiKoEt4oZaFnWZfNX1KYaa0dyCuA2Ii7K7y9RmeD2LmTSFGdXuPeNSwDHABARKwBzkpckPy+v2/kEt5Y4O6Ar/7OIWOacfwwmyzkviyzO0WX9zR6FIf4qowstK1F1M5KzkgeKktZ2HBFTAFcAEBHH2+uMHZmBFvN8+ZbfHQA46N6u/v08AxXGOLRujdHJZJv4zh3BMhEsE8HnQAXLRPCXfAV7hlDnGS3D4+73hT1DsWcIlUNri2es33QoLBPBo4lQd0K45eqxD9TGhUcTwZ4huDMEe4bgyhA8tAqWieChVbBnCJaJUHe7dMsF06d1u7Rl8l5RcbNKY2WM4FSXZSLUGWjLpzsCA7VnCBUyyd2yLi1tB8KeIVgmgg1UsEwEy0TwtVbBMhEqDLTxCyd59+cZ9gzBMhHcGYJlIngGKvTuDDKDDUeeLW2HwjIR6gy0pdRHYKB1ndHiGSPoDMtEqJuOt3y3agQGapkI/YfWnMGGyvDQOjIsE2G4WxJG0BmWiVARQMSfrqqttWy9MvYj4qYEEF2gy9CoondnMLN52SLTiDgh+ZJkAJiklI5qNzK6MJG3sEAXKXNaHk9LBk8VFTJpkUjjRetf+yNSmpSfRxFxFBHn6MKHthNAtMsyyTnfApiU+JnnOecVukrZTgDRD/yu6dP9Ad+v3bYHlwBA8hwAImIREZe1UTO97gbf29v79/X19V71Lv58O9fX19eftW7nLexLmttlCSWqqgxjjKnh//g4Hb7+cHCoAAAAAElFTkSuQmCC)"
      ],
      "metadata": {
        "id": "4OlDc00aWjAC"
      }
    },
    {
      "cell_type": "code",
      "execution_count": 1,
      "metadata": {
        "colab": {
          "base_uri": "https://localhost:8080/",
          "height": 265
        },
        "id": "f6ny4v0_Wdty",
        "outputId": "b12ff452-435e-4829-b926-5ec3da024e26"
      },
      "outputs": [
        {
          "output_type": "display_data",
          "data": {
            "text/plain": [
              "<Figure size 432x288 with 1 Axes>"
            ],
            "image/png": "[encoded data removed]"
          },
          "metadata": {
            "needs_background": "light"
          }
        }
      ],
      "source": [
        "# Using cmap to access the colormap\n",
        "# Above showing colormap is 'viridis'\n",
        "import matplotlib.pyplot as plt\n",
        "import numpy as np\n",
        "\n",
        "x=np.array([5,7,8,7,2,17,2,9,4,11,12,9,6])\n",
        "y=np.array([99,86,87,88,111,86,103,87,94,78,77,85,86])\n",
        "colors=np.array([0, 10, 20, 30, 40, 45, 50, 55, 60, 70, 80, 90, 100])\n",
        "\n",
        "plt.scatter(x,y,c=colors,cmap='viridis')\n",
        "plt.grid()\n",
        "plt.show()\n",
        "\n"
      ]
    }
  ]
}