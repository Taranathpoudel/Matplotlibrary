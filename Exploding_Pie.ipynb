{
  "nbformat": 4,
  "nbformat_minor": 0,
  "metadata": {
    "colab": {
      "name": "Exploding_Pie.ipynb",
      "provenance": [],
      "authorship_tag": "ABX9TyOjSlqXH1NvdiSYz0PWZkzf",
      "include_colab_link": true
    },
    "kernelspec": {
      "name": "python3",
      "display_name": "Python 3"
    },
    "language_info": {
      "name": "python"
    }
  },
  "cells": [
    {
      "cell_type": "markdown",
      "metadata": {
        "id": "view-in-github",
        "colab_type": "text"
      },
      "source": [
        "<a href=\"https://colab.research.google.com/github/Taranathpoudel/Matplotlibrary/blob/main/Exploding_Pie.ipynb\" target=\"_parent\"><img src=\"https://colab.research.google.com/assets/colab-badge.svg\" alt=\"Open In Colab\"/></a>"
      ]
    },
    {
      "cell_type": "markdown",
      "source": [
        "# Exploding one pie out of chart"
      ],
      "metadata": {
        "id": "EcKgY5_MCkVo"
      }
    },
    {
      "cell_type": "code",
      "execution_count": 3,
      "metadata": {
        "colab": {
          "base_uri": "https://localhost:8080/",
          "height": 248
        },
        "id": "vvpSDjFxCiLy",
        "outputId": "2312b131-e3c3-4a9f-aa11-f41d18e97bf2"
      },
      "outputs": [
        {
          "output_type": "display_data",
          "data": {
            "text/plain": [
              "<Figure size 432x288 with 1 Axes>"
            ],
            "image/png": "[encoded data removed]"
          },
          "metadata": {}
        }
      ],
      "source": [
        "import matplotlib.pyplot as plt\n",
        "import numpy as np\n",
        "\n",
        "x=np.random.randint(30,size=6)\n",
        "myexplode=[0.2,0,0,0,0,0] #Note the respective pie will be separated in chart\n",
        "mylabels=['A','B','C','D','E','F']\n",
        "\n",
        "plt.pie(x,labels=mylabels,explode=myexplode)\n",
        "plt.show()"
      ]
    }
  ]
}