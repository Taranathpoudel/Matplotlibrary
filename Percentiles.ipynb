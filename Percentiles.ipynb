{
  "nbformat": 4,
  "nbformat_minor": 0,
  "metadata": {
    "colab": {
      "provenance": [],
      "authorship_tag": "ABX9TyOXNh70VYxNa8GjuG51peMo",
      "include_colab_link": true
    },
    "kernelspec": {
      "name": "python3",
      "display_name": "Python 3"
    },
    "language_info": {
      "name": "python"
    }
  },
  "cells": [
    {
      "cell_type": "markdown",
      "metadata": {
        "id": "view-in-github",
        "colab_type": "text"
      },
      "source": [
        "<a href=\"https://colab.research.google.com/github/Taranathpoudel/Matplotlibrary/blob/main/Percentiles.ipynb\" target=\"_parent\"><img src=\"https://colab.research.google.com/assets/colab-badge.svg\" alt=\"Open In Colab\"/></a>"
      ]
    },
    {
      "cell_type": "markdown",
      "source": [
        "# Percentile Means the % of the data that is equal or less than"
      ],
      "metadata": {
        "id": "yNmLKaSyxF2o"
      }
    },
    {
      "cell_type": "code",
      "execution_count": 26,
      "metadata": {
        "colab": {
          "base_uri": "https://localhost:8080/"
        },
        "id": "YmZmMTtSwo7n",
        "outputId": "2523c6f3-5d74-458a-a569-d80fbfb0da19"
      },
      "outputs": [
        {
          "output_type": "stream",
          "name": "stdout",
          "text": [
            "43.0\n"
          ]
        }
      ],
      "source": [
        "import numpy as np\n",
        "ages = [5,31,43,48,50,41,7,11,15,39,80,82,32,2,8,6,25,36,27,61,31]\n",
        "p=np.percentile(ages,75)\n",
        "print(p)"
      ]
    },
    {
      "cell_type": "markdown",
      "source": [
        "# 43 means that the there are 75% of people upto age 43"
      ],
      "metadata": {
        "id": "a0cmRwiRxmPx"
      }
    },
    {
      "cell_type": "code",
      "source": [
        "# conformation\n",
        "import numpy as np\n",
        "ages = [5,31,43,48,50,41,7,11,15,39,80,82,32,2,8,6,25,36,27,31,61]\n",
        "p=np.percentile(ages,75)\n",
        "i=1\n",
        "count=0\n",
        "while i<=len(ages):\n",
        "  if ages[i-1]<=43:\n",
        "    count=count+1\n",
        "  i=i+1\n",
        "print(count)\n",
        "print(i)\n",
        "N=len(ages)\n",
        "print(N)\n",
        "per=(100*count/N)\n",
        "print(per)"
      ],
      "metadata": {
        "colab": {
          "base_uri": "https://localhost:8080/"
        },
        "id": "TF26avqRxxEV",
        "outputId": "5e7e164f-37bd-4511-b8fd-24579b4b6f69"
      },
      "execution_count": 36,
      "outputs": [
        {
          "output_type": "stream",
          "name": "stdout",
          "text": [
            "16\n",
            "22\n",
            "21\n",
            "76.19047619047619\n"
          ]
        }
      ]
    }
  ]
}