{
  "nbformat": 4,
  "nbformat_minor": 0,
  "metadata": {
    "colab": {
      "name": "Pie_charts.ipynb",
      "provenance": [],
      "authorship_tag": "ABX9TyMtBH+USxGwWggqVl1RSsV2",
      "include_colab_link": true
    },
    "kernelspec": {
      "name": "python3",
      "display_name": "Python 3"
    },
    "language_info": {
      "name": "python"
    }
  },
  "cells": [
    {
      "cell_type": "markdown",
      "metadata": {
        "id": "view-in-github",
        "colab_type": "text"
      },
      "source": [
        "<a href=\"https://colab.research.google.com/github/Taranathpoudel/Matplotlibrary/blob/main/Pie_charts.ipynb\" target=\"_parent\"><img src=\"https://colab.research.google.com/assets/colab-badge.svg\" alt=\"Open In Colab\"/></a>"
      ]
    },
    {
      "cell_type": "markdown",
      "source": [
        "# Creating Pie Charts\n",
        "With Pyplot, you can use the pie() function to draw pie charts:"
      ],
      "metadata": {
        "id": "B0yZwmkEAhfD"
      }
    },
    {
      "cell_type": "code",
      "execution_count": 13,
      "metadata": {
        "colab": {
          "base_uri": "https://localhost:8080/",
          "height": 265
        },
        "id": "VrZmN4YLAcmH",
        "outputId": "475a58cd-7f1e-4df6-80e9-8e1582cbf824"
      },
      "outputs": [
        {
          "output_type": "display_data",
          "data": {
            "text/plain": [
              "<Figure size 432x288 with 1 Axes>"
            ],
            "image/png": "[encoded data removed]"
          },
          "metadata": {}
        },
        {
          "output_type": "stream",
          "name": "stdout",
          "text": [
            "[ 7  6  5  7 10  4  1]\n"
          ]
        }
      ],
      "source": [
        "import matplotlib.pyplot as plt\n",
        "import numpy as np\n",
        "\n",
        "x=np.random.randint(20,size=(7))\n",
        "mylabels=['alpha','beta','gamma','delta','pi','phi','omega']\n",
        "plt.pie(x,labels=mylabels,startangle=0)\n",
        "plt.show()\n",
        "print(x)"
      ]
    }
  ]
}